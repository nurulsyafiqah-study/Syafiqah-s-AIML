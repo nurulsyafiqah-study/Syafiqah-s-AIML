{
 "cells": [
  {
   "cell_type": "markdown",
   "id": "6d38753a-a830-417e-9efd-6b889f38b0a1",
   "metadata": {},
   "source": [
    "# First Note Book\n",
    "## Steps to print in Single Line\n",
    "    We will create Code Cell\n",
    "    We will write print command\n",
    "    We will run the cell"
   ]
  },
  {
   "cell_type": "code",
   "execution_count": 14,
   "id": "c71fb302-cc78-49c0-af6b-643f10f8ad6f",
   "metadata": {},
   "outputs": [
    {
     "name": "stdout",
     "output_type": "stream",
     "text": [
      "Welcome to Python Note Book\n"
     ]
    }
   ],
   "source": [
    "print(\"Welcome to Python Note Book\")"
   ]
  },
  {
   "cell_type": "markdown",
   "id": "31e73cd0-680c-41c5-8314-6c888603c57f",
   "metadata": {},
   "source": [
    "## For loop example"
   ]
  },
  {
   "cell_type": "code",
   "execution_count": 15,
   "id": "24ef7319-9679-447b-838e-b390042eb27e",
   "metadata": {},
   "outputs": [
    {
     "name": "stdout",
     "output_type": "stream",
     "text": [
      "1\t2\t3\t4\t5\t6\t7\t8\t9\t10\t11\t12\t13\t14\t15\t16\t17\t18\t19\t20\t21\t22\t23\t24\t25\t26\t27\t28\t29\t30\t31\t32\t33\t34\t35\t36\t37\t38\t39\t40\t41\t42\t43\t44\t45\t46\t47\t48\t49\t50\t51\t52\t53\t54\t55\t56\t57\t58\t59\t60\t61\t62\t63\t64\t65\t66\t67\t68\t69\t70\t71\t72\t73\t74\t75\t76\t77\t78\t79\t80\t81\t82\t83\t84\t85\t86\t87\t88\t89\t90\t91\t92\t93\t94\t95\t96\t97\t98\t99\t100\t"
     ]
    }
   ],
   "source": [
    "for num in range(1,101):\n",
    "    print(num,end='\\t')"
   ]
  },
  {
   "cell_type": "code",
   "execution_count": 16,
   "id": "6bbd6f9f-7cb8-44f1-b40f-7c2f1fe35fb5",
   "metadata": {},
   "outputs": [],
   "source": [
    "players=(\"Akshay\",\"Sya\",\"Dino Aizuddin\",\"Shatish\",\"TJ\",\"AA\")"
   ]
  },
  {
   "cell_type": "code",
   "execution_count": 17,
   "id": "a1b59fd9-305d-4080-a615-3d01aa8ce46d",
   "metadata": {},
   "outputs": [
    {
     "name": "stdout",
     "output_type": "stream",
     "text": [
      "Akshay\n",
      "Sya\n",
      "Dino Aizuddin\n",
      "Shatish\n",
      "TJ\n",
      "AA\n"
     ]
    }
   ],
   "source": [
    "for player in players:\n",
    "    print(player)"
   ]
  },
  {
   "cell_type": "code",
   "execution_count": null,
   "id": "c5aed4c3-7921-43d3-9e89-56c31a50299e",
   "metadata": {},
   "outputs": [],
   "source": []
  }
 ],
 "metadata": {
  "kernelspec": {
   "display_name": "Python [conda env:base] *",
   "language": "python",
   "name": "conda-base-py"
  },
  "language_info": {
   "codemirror_mode": {
    "name": "ipython",
    "version": 3
   },
   "file_extension": ".py",
   "mimetype": "text/x-python",
   "name": "python",
   "nbconvert_exporter": "python",
   "pygments_lexer": "ipython3",
   "version": "3.13.5"
  }
 },
 "nbformat": 4,
 "nbformat_minor": 5
}
