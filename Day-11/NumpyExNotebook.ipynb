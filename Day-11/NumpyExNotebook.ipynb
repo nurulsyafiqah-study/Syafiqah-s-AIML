{
 "cells": [
  {
   "cell_type": "markdown",
   "id": "dc68cb47-4f24-4499-a80a-3f690558e13b",
   "metadata": {},
   "source": [
    "# Numpy Introduction and usage"
   ]
  },
  {
   "cell_type": "markdown",
   "id": "424e7835-1b68-4d71-a78c-55edc86879a6",
   "metadata": {},
   "source": [
    "## One Dimensional Array"
   ]
  },
  {
   "cell_type": "code",
   "execution_count": 4,
   "id": "c79126b8-ea83-4cf3-8d09-d03d5fd3489f",
   "metadata": {},
   "outputs": [],
   "source": [
    "import numpy as np"
   ]
  },
  {
   "cell_type": "code",
   "execution_count": 54,
   "id": "8d186123-d809-4227-949e-d10e04d32798",
   "metadata": {},
   "outputs": [],
   "source": [
    "array1=np.array([10,20,30,40,50,80])"
   ]
  },
  {
   "cell_type": "code",
   "execution_count": 55,
   "id": "8a5c7d90-feb2-4022-a430-a7c54a4fdd1e",
   "metadata": {},
   "outputs": [
    {
     "name": "stdout",
     "output_type": "stream",
     "text": [
      "[10 20 30 40 50 80]\n"
     ]
    }
   ],
   "source": [
    "print(array1)"
   ]
  },
  {
   "cell_type": "markdown",
   "id": "90dc3b8a-b066-47e2-9a4c-ea1071a3cd91",
   "metadata": {},
   "source": [
    "## Two Dimensional Array"
   ]
  },
  {
   "cell_type": "code",
   "execution_count": 8,
   "id": "a4562c23-0771-40f1-a11e-4ec0a460a73d",
   "metadata": {},
   "outputs": [],
   "source": [
    "array2=np.array([[10,20,30],[40,50,60]])"
   ]
  },
  {
   "cell_type": "code",
   "execution_count": 9,
   "id": "d89155de-e54a-4c98-b1fe-d065eccc9d07",
   "metadata": {},
   "outputs": [
    {
     "name": "stdout",
     "output_type": "stream",
     "text": [
      "[[10 20 30]\n",
      " [40 50 60]]\n"
     ]
    }
   ],
   "source": [
    "print(array2)"
   ]
  },
  {
   "cell_type": "markdown",
   "id": "7c26ca59-47bd-48f1-9d04-5d51db7537ed",
   "metadata": {},
   "source": [
    "## Three Dimensional Array"
   ]
  },
  {
   "cell_type": "code",
   "execution_count": 10,
   "id": "3fc01101-f086-494b-baad-3c0f313bcde2",
   "metadata": {},
   "outputs": [],
   "source": [
    "array3=np.array([[[10,20,30],[40,50,60]],[[10,20,30],[40,50,70]]])"
   ]
  },
  {
   "cell_type": "code",
   "execution_count": 11,
   "id": "dd1d5faf-86d0-4f07-a7b0-68549aaa6933",
   "metadata": {},
   "outputs": [
    {
     "name": "stdout",
     "output_type": "stream",
     "text": [
      "[[[10 20 30]\n",
      "  [40 50 60]]\n",
      "\n",
      " [[10 20 30]\n",
      "  [40 50 70]]]\n"
     ]
    }
   ],
   "source": [
    "print(array3)"
   ]
  },
  {
   "cell_type": "markdown",
   "id": "a79989ed-3276-4c0d-a729-21d879a8c4ea",
   "metadata": {},
   "source": [
    "## Findout Dimension of NumPy array"
   ]
  },
  {
   "cell_type": "code",
   "execution_count": 12,
   "id": "a09f554f-87ac-422d-a6f3-3dc7050a0d4a",
   "metadata": {},
   "outputs": [
    {
     "name": "stdout",
     "output_type": "stream",
     "text": [
      "First Array Dimension:\t 1\n"
     ]
    }
   ],
   "source": [
    "print('First Array Dimension:\\t',array1.ndim)"
   ]
  },
  {
   "cell_type": "code",
   "execution_count": 13,
   "id": "4ad574ec-31ea-4417-a5da-76a848a9979a",
   "metadata": {},
   "outputs": [
    {
     "name": "stdout",
     "output_type": "stream",
     "text": [
      "Second Array Dimension:\t 2\n"
     ]
    }
   ],
   "source": [
    "print('Second Array Dimension:\\t',array2.ndim)"
   ]
  },
  {
   "cell_type": "code",
   "execution_count": 14,
   "id": "454f4eb7-fc23-4f94-91b5-d4750e05d757",
   "metadata": {},
   "outputs": [
    {
     "name": "stdout",
     "output_type": "stream",
     "text": [
      "Third Array Dimension:\t 3\n"
     ]
    }
   ],
   "source": [
    "print('Third Array Dimension:\\t',array3.ndim)"
   ]
  },
  {
   "cell_type": "markdown",
   "id": "e3254742-d719-4297-ae8a-7a86a25e2c8d",
   "metadata": {},
   "source": [
    "# Task 1: Write an array of 5 students marks using NumPy\n",
    "        ## Marks are: 80,70,75,99,89"
   ]
  },
  {
   "cell_type": "code",
   "execution_count": 21,
   "id": "3db02f63-093e-4899-ae00-980693de47b6",
   "metadata": {},
   "outputs": [],
   "source": [
    "marks_array=np.array([80,70,75,99,89])"
   ]
  },
  {
   "cell_type": "code",
   "execution_count": 23,
   "id": "2ba70d18-90c3-462e-b32c-04cabd36fc37",
   "metadata": {},
   "outputs": [
    {
     "name": "stdout",
     "output_type": "stream",
     "text": [
      "Array of Marks:\t [80 70 75 99 89]\n"
     ]
    }
   ],
   "source": [
    "print('Array of Marks:\\t',marks_array)"
   ]
  },
  {
   "cell_type": "markdown",
   "id": "1a8ff822-7cd6-4292-a744-15947a6d7561",
   "metadata": {},
   "source": [
    "# Write an array: to take Marks of 5 students in 3 subjects using NumPy\n",
    "## Math, English, Chemistry\n",
    "### [[50,45,49],[40,42,45],[35,40,46],[39,40,45],[48,40,40]]"
   ]
  },
  {
   "cell_type": "code",
   "execution_count": 25,
   "id": "fab5fc52-107f-4429-876d-419e70acfcbd",
   "metadata": {},
   "outputs": [
    {
     "name": "stdout",
     "output_type": "stream",
     "text": [
      "2D Array Example:\n",
      " [[50 45 49]\n",
      " [40 42 45]\n",
      " [35 40 46]\n",
      " [39 40 45]\n",
      " [48 40 40]]\n"
     ]
    }
   ],
   "source": [
    "array_marks_subjects=np.array([[50,45,49],[40,42,45],[35,40,46],[39,40,45],[48,40,40]])\n",
    "print(\"2D Array Example:\\n\",array_marks_subjects)"
   ]
  },
  {
   "cell_type": "markdown",
   "id": "f959f6b0-a3c3-4757-8d25-2189419fc61a",
   "metadata": {},
   "source": [
    "# Write an array: to take Marks of 4 students in 3 Subjects for two semester using NumPy\n",
    "    ## Students Name are: 'Amit','Sha','Xi','Arif'\n",
    "    ## Subjects: Math, English, Chemistry\n",
    "    ## Semester: Sem1, Sem2\n",
    "    ## 4*3*2\n",
    "    ## [[[85,88],[78,82],[90,95]],[[76,70],[40,45],[90,90]],[[80,86],[78,82],[90,95]],[[85,88],[78,82],[70,90]]]"
   ]
  },
  {
   "cell_type": "code",
   "execution_count": 29,
   "id": "c9f6447f-bfa0-4d7d-b9a1-fc38ce8f7c56",
   "metadata": {},
   "outputs": [
    {
     "name": "stdout",
     "output_type": "stream",
     "text": [
      "[[[85 88]\n",
      "  [78 82]\n",
      "  [90 95]]\n",
      "\n",
      " [[76 70]\n",
      "  [40 45]\n",
      "  [90 90]]\n",
      "\n",
      " [[80 86]\n",
      "  [78 82]\n",
      "  [90 95]]\n",
      "\n",
      " [[85 88]\n",
      "  [78 82]\n",
      "  [70 90]]]\n"
     ]
    }
   ],
   "source": [
    "marks_subject_sem=np.array([[[85,88],[78,82],[90,95]],[[76,70],[40,45],[90,90]],[[80,86],[78,82],[90,95]],[[85,88],[78,82],[70,90]]])\n",
    "print(marks_subject_sem)"
   ]
  },
  {
   "cell_type": "markdown",
   "id": "6b68f2bd-9ce0-4d24-9ae1-f7f318bbfed8",
   "metadata": {},
   "source": [
    "# Write an array: to take weather of 2 cities in 3 days for three times in a day; Morning, Noon, Evening\n",
    "    ## Cities name: Kuala Lumpur, Delhi\n",
    "    ## Saturday, Sunday, Monday\n",
    "    ## 3 time slots: Morning, Noon, Evening\n",
    "\n",
    "## Create one 3D Array for this using Numpy and print it"
   ]
  },
  {
   "cell_type": "code",
   "execution_count": 40,
   "id": "4c86f5d7-a1e9-4d6c-afd5-4f14dec8334f",
   "metadata": {
    "scrolled": true
   },
   "outputs": [
    {
     "name": "stdout",
     "output_type": "stream",
     "text": [
      "Weather Data of Kuala Lumpur and Delhi ('C):\n",
      " [[[25 27 30]\n",
      "  [26 25 27]\n",
      "  [25 26 27]]\n",
      "\n",
      " [[27 25 29]\n",
      "  [23 22 24]\n",
      "  [24 25 26]]]\n"
     ]
    }
   ],
   "source": [
    "weather_data=np.array([\n",
    "    [#KL\n",
    "        [25,27,30],\n",
    "        [26,25,27],\n",
    "        [25,26,27]\n",
    "    ],\n",
    "    [#Delhi\n",
    "        [27,25,29],\n",
    "        [23,22,24],\n",
    "        [24,25,26]\n",
    "    ]\n",
    "])\n",
    "    \n",
    "print(\"Weather Data of Kuala Lumpur and Delhi ('C):\\n\",weather_data)"
   ]
  },
  {
   "cell_type": "markdown",
   "id": "d0e51397-9932-4b7f-86d0-a6fafccf3129",
   "metadata": {},
   "source": [
    "## Basic Information"
   ]
  },
  {
   "cell_type": "code",
   "execution_count": 56,
   "id": "0bb614a6-251a-4f3d-a49a-3c24a4a32be8",
   "metadata": {},
   "outputs": [
    {
     "name": "stdout",
     "output_type": "stream",
     "text": [
      "[10 20 30 40 50 80]\n"
     ]
    }
   ],
   "source": [
    "print(array1)"
   ]
  },
  {
   "cell_type": "code",
   "execution_count": 57,
   "id": "3a9299df-5937-4869-bf08-1681b4b4b5d5",
   "metadata": {},
   "outputs": [
    {
     "name": "stdout",
     "output_type": "stream",
     "text": [
      "Shape of array1:\t (6,)\n"
     ]
    }
   ],
   "source": [
    "print(\"Shape of array1:\\t\",array1.shape)"
   ]
  },
  {
   "cell_type": "code",
   "execution_count": 58,
   "id": "69c1edb4-c7fb-4a72-badf-7432d9eee1a1",
   "metadata": {},
   "outputs": [
    {
     "name": "stdout",
     "output_type": "stream",
     "text": [
      "Size of array1:\t 6\n"
     ]
    }
   ],
   "source": [
    "print(\"Size of array1:\\t\",array1.size)"
   ]
  },
  {
   "cell_type": "code",
   "execution_count": 59,
   "id": "2df2c4a5-7106-49a5-b446-b38f0aac8fea",
   "metadata": {},
   "outputs": [
    {
     "name": "stdout",
     "output_type": "stream",
     "text": [
      "Dimension of array1:\t 1\n"
     ]
    }
   ],
   "source": [
    "print(\"Dimension of array1:\\t\",array1.ndim)"
   ]
  },
  {
   "cell_type": "code",
   "execution_count": 60,
   "id": "ef51234f-0789-4a1c-b8fc-7da0305e0fdc",
   "metadata": {},
   "outputs": [
    {
     "name": "stdout",
     "output_type": "stream",
     "text": [
      "Data Type of array1:\t int64\n"
     ]
    }
   ],
   "source": [
    "print(\"Data Type of array1:\\t\",array1.dtype)"
   ]
  },
  {
   "cell_type": "code",
   "execution_count": 66,
   "id": "ace66a06-c3af-4587-a0d2-22c21b8bb6e0",
   "metadata": {},
   "outputs": [],
   "source": [
    "students=np.array(['Ali Dhia','Sha','Xi','Meena','Kumar'])"
   ]
  },
  {
   "cell_type": "code",
   "execution_count": 67,
   "id": "ed4bb92f-1114-447f-8fd7-31b3da8a602d",
   "metadata": {},
   "outputs": [
    {
     "name": "stdout",
     "output_type": "stream",
     "text": [
      "['Ali Dhia' 'Sha' 'Xi' 'Meena' 'Kumar']\n"
     ]
    }
   ],
   "source": [
    "print(students)"
   ]
  },
  {
   "cell_type": "code",
   "execution_count": 68,
   "id": "c59a490a-5a7f-4b6b-8800-9a7997c29aa9",
   "metadata": {},
   "outputs": [
    {
     "name": "stdout",
     "output_type": "stream",
     "text": [
      "Shape of students:\t (5,)\n",
      "Size of students:\t 5\n",
      "Dimension of students:\t 1\n",
      "Data Type of students:\t <U8\n"
     ]
    }
   ],
   "source": [
    "print(\"Shape of students:\\t\",students.shape)\n",
    "print(\"Size of students:\\t\",students.size)\n",
    "print(\"Dimension of students:\\t\",students.ndim)\n",
    "print(\"Data Type of students:\\t\",students.dtype)"
   ]
  },
  {
   "cell_type": "markdown",
   "id": "af48bd12-99ce-4cdc-acd2-83a0b8cb33cf",
   "metadata": {},
   "source": [
    "# Mathematical Operation"
   ]
  },
  {
   "cell_type": "markdown",
   "id": "08673728-4ae5-4928-b4e2-5812c1868f71",
   "metadata": {},
   "source": [
    "## 1"
   ]
  },
  {
   "cell_type": "code",
   "execution_count": 69,
   "id": "0f55d5b0-b523-4370-8e79-642b9bd41434",
   "metadata": {},
   "outputs": [
    {
     "name": "stdout",
     "output_type": "stream",
     "text": [
      "[10 20 30 40 50 80]\n"
     ]
    }
   ],
   "source": [
    "print(array1)"
   ]
  },
  {
   "cell_type": "code",
   "execution_count": 72,
   "id": "69493181-36a1-437e-8c63-954581701899",
   "metadata": {},
   "outputs": [],
   "source": [
    "total=np.sum(array1)"
   ]
  },
  {
   "cell_type": "code",
   "execution_count": 73,
   "id": "df93c901-59b8-4fbf-99a6-c5131081a855",
   "metadata": {},
   "outputs": [
    {
     "name": "stdout",
     "output_type": "stream",
     "text": [
      "230\n"
     ]
    }
   ],
   "source": [
    "print(total)"
   ]
  },
  {
   "cell_type": "code",
   "execution_count": 79,
   "id": "99a7f71d-aa01-452a-9b53-d31073e39b3d",
   "metadata": {},
   "outputs": [
    {
     "name": "stdout",
     "output_type": "stream",
     "text": [
      "Mean\t\t: 38.333333333333336\n",
      "Min\t\t: 10\n",
      "Max\t\t: 80\n",
      "Index of Min\t: 0\n",
      "Index of Max\t: 5\n"
     ]
    }
   ],
   "source": [
    "print(\"Mean\\t\\t:\",np.mean(array1))\n",
    "print(\"Min\\t\\t:\",np.min(array1))\n",
    "print(\"Max\\t\\t:\",np.max(array1))\n",
    "print(\"Index of Min\\t:\",np.argmin(array1))\n",
    "print(\"Index of Max\\t:\",np.argmax(array1))"
   ]
  },
  {
   "cell_type": "markdown",
   "id": "2d2e9b5d-9123-4309-a7a9-8ad3c6d0d59e",
   "metadata": {},
   "source": [
    "## 2"
   ]
  },
  {
   "cell_type": "code",
   "execution_count": 80,
   "id": "154e20e0-a62f-4f0a-bc12-7bd8be0521ca",
   "metadata": {},
   "outputs": [
    {
     "name": "stdout",
     "output_type": "stream",
     "text": [
      "[ 100  200  300 7000  400  500  300 1900  600]\n"
     ]
    }
   ],
   "source": [
    "our_arr=np.array([100,200,300,7000,400,500,300,1900,600])\n",
    "print(our_arr)"
   ]
  },
  {
   "cell_type": "markdown",
   "id": "49a90db7-da2f-44b1-b2ff-5afd57bbbfcc",
   "metadata": {},
   "source": [
    "#### #searching and sorting example in 1D Array"
   ]
  },
  {
   "cell_type": "code",
   "execution_count": 81,
   "id": "b81ad0d7-bae7-4c88-a85b-e47db8e9ec5d",
   "metadata": {},
   "outputs": [
    {
     "name": "stdout",
     "output_type": "stream",
     "text": [
      "Sorted Array\t: [ 100  200  300  300  400  500  600 1900 7000]\n"
     ]
    }
   ],
   "source": [
    "sorted_arr=np.sort(our_arr)\n",
    "print(\"Sorted Array\\t:\",sorted_arr)"
   ]
  },
  {
   "cell_type": "code",
   "execution_count": 91,
   "id": "01b9a81b-fef4-4de0-9bf3-d4d2d683e596",
   "metadata": {},
   "outputs": [
    {
     "name": "stdout",
     "output_type": "stream",
     "text": [
      "Is there any item greater than 500?\t: True\n",
      "All is greater than 500?\t\t: False\n",
      "All is greater than 99?\t\t\t: True\n",
      "Where is the values that is >500 (Index ie location)\t: (array([6, 7, 8]),)\n",
      "All Number greater than 500 (Index ie location)\t\t:\n",
      "[6 7 8]\n"
     ]
    }
   ],
   "source": [
    "print(\"Is there any item greater than 500?\\t:\",np.any(sorted_arr>500))\n",
    "print(\"All is greater than 500?\\t\\t:\",np.all(sorted_arr>500))\n",
    "print(\"All is greater than 99?\\t\\t\\t:\",np.all(sorted_arr>99))\n",
    "print(\"Where is the values that is >500 (Index ie location)\\t:\",np.where(sorted_arr>500))\n",
    "### or you can code this way:\n",
    "print(\"All Number greater than 500 (Index ie location)\\t\\t:\")\n",
    "for num in np.where(sorted_arr>500):\n",
    "    print(num)"
   ]
  },
  {
   "cell_type": "code",
   "execution_count": null,
   "id": "b88970e6-cce7-4b9d-ad42-a793f85b4e82",
   "metadata": {},
   "outputs": [],
   "source": []
  },
  {
   "cell_type": "code",
   "execution_count": 92,
   "id": "d135ca89-9db9-44b0-92cd-c43ce38542b0",
   "metadata": {},
   "outputs": [
    {
     "name": "stdout",
     "output_type": "stream",
     "text": [
      "[ 600 1900 7000]\n"
     ]
    }
   ],
   "source": [
    "selected_values=sorted_arr[sorted_arr>500]\n",
    "print(selected_values)"
   ]
  },
  {
   "cell_type": "code",
   "execution_count": 95,
   "id": "01a0abff-0e1f-43dd-aa49-906d9dfb8dd7",
   "metadata": {
    "scrolled": true
   },
   "outputs": [
    {
     "name": "stdout",
     "output_type": "stream",
     "text": [
      "600\n",
      "1900\n",
      "7000\n"
     ]
    }
   ],
   "source": [
    "## or can code this way\n",
    "for num in selected_values:\n",
    "    print(num)"
   ]
  },
  {
   "cell_type": "code",
   "execution_count": 96,
   "id": "ee3b77c9-045f-4a51-aeef-1c40b2ba4e23",
   "metadata": {
    "scrolled": true
   },
   "outputs": [
    {
     "name": "stdout",
     "output_type": "stream",
     "text": [
      "600\n",
      "1900\n",
      "7000\n"
     ]
    }
   ],
   "source": [
    "## or can code this way\n",
    "for num in sorted_arr[sorted_arr>500]:\n",
    "    print(num)"
   ]
  },
  {
   "cell_type": "code",
   "execution_count": 97,
   "id": "a4944186-5f22-49fe-af1c-1f1e137e0e31",
   "metadata": {
    "scrolled": true
   },
   "outputs": [
    {
     "name": "stdout",
     "output_type": "stream",
     "text": [
      "7000\n",
      "1900\n",
      "600\n"
     ]
    }
   ],
   "source": [
    "## or can code this way\n",
    "for num in our_arr[our_arr>500]:\n",
    "    print(num)"
   ]
  },
  {
   "cell_type": "markdown",
   "id": "174f473c-44d5-44a6-8419-8b24819f05bb",
   "metadata": {},
   "source": [
    "# Slicing 1D Array\n",
    "    1. To take elements from starting index to end index\n",
    "    2. e.g. [start:end]"
   ]
  },
  {
   "cell_type": "code",
   "execution_count": 98,
   "id": "ecee6bda-2bde-44e3-9a82-67a6addd1802",
   "metadata": {},
   "outputs": [
    {
     "name": "stdout",
     "output_type": "stream",
     "text": [
      "[ 100  200  300 7000  400  500  300 1900  600]\n"
     ]
    }
   ],
   "source": [
    "print(our_arr)"
   ]
  },
  {
   "cell_type": "code",
   "execution_count": 99,
   "id": "aed91cce-d933-4b15-a17e-3a3d514a8a8d",
   "metadata": {},
   "outputs": [
    {
     "name": "stdout",
     "output_type": "stream",
     "text": [
      "[200 300]\n"
     ]
    }
   ],
   "source": [
    "slice_our_arr=our_arr[1:3]\n",
    "print(slice_our_arr)"
   ]
  },
  {
   "cell_type": "markdown",
   "id": "9b6c5451-24b5-49d9-924a-aeeadbdcc297",
   "metadata": {},
   "source": [
    "#### #printing from an Index to the last"
   ]
  },
  {
   "cell_type": "code",
   "execution_count": 100,
   "id": "5c34a6ef-e075-45d2-bc7c-70e7b45a12ff",
   "metadata": {},
   "outputs": [
    {
     "name": "stdout",
     "output_type": "stream",
     "text": [
      "[7000  400  500  300 1900  600]\n"
     ]
    }
   ],
   "source": [
    "print(our_arr[3:])"
   ]
  },
  {
   "cell_type": "markdown",
   "id": "3c57a8aa-7a9b-4ce8-a184-53dd1c9339a0",
   "metadata": {},
   "source": [
    "#### #printing the first Index number"
   ]
  },
  {
   "cell_type": "code",
   "execution_count": 101,
   "id": "3f53eda8-701e-434d-8191-5bd98e8d90c5",
   "metadata": {},
   "outputs": [
    {
     "name": "stdout",
     "output_type": "stream",
     "text": [
      "[ 100  200  300 7000]\n"
     ]
    }
   ],
   "source": [
    "print(our_arr[:4])"
   ]
  },
  {
   "cell_type": "code",
   "execution_count": 102,
   "id": "d9c25d55-7483-491e-b602-e42caacae1fc",
   "metadata": {},
   "outputs": [
    {
     "name": "stdout",
     "output_type": "stream",
     "text": [
      "[ 100  200  300 7000  400  500  300]\n"
     ]
    }
   ],
   "source": [
    "print(our_arr[:7])"
   ]
  },
  {
   "cell_type": "markdown",
   "id": "7ca2a1e5-1b88-42af-b8a7-866c90984e2d",
   "metadata": {},
   "source": [
    "# step\n",
    "    ## [start:end:step]\n",
    "    ## step: every step element"
   ]
  },
  {
   "cell_type": "code",
   "execution_count": 103,
   "id": "6ac3e620-baad-4dc9-ae99-57f7a585d052",
   "metadata": {},
   "outputs": [
    {
     "name": "stdout",
     "output_type": "stream",
     "text": [
      "[200 300 500]\n"
     ]
    }
   ],
   "source": [
    "our_slice=sorted_arr[1:6:2]\n",
    "print(our_slice)"
   ]
  },
  {
   "cell_type": "code",
   "execution_count": 105,
   "id": "cc912fde-f071-49a1-879f-a05ceb441fc4",
   "metadata": {},
   "outputs": [
    {
     "name": "stdout",
     "output_type": "stream",
     "text": [
      "[100 300 600]\n"
     ]
    }
   ],
   "source": [
    "every_third_element=sorted_arr[::3]\n",
    "print(every_third_element)"
   ]
  },
  {
   "cell_type": "code",
   "execution_count": 106,
   "id": "6e17b174-fb3d-43b4-8e35-f777c02c0b3a",
   "metadata": {},
   "outputs": [
    {
     "data": {
      "text/plain": [
       "array([100, 300, 600])"
      ]
     },
     "execution_count": 106,
     "metadata": {},
     "output_type": "execute_result"
    }
   ],
   "source": [
    "every_third_element=sorted_arr[::3]\n",
    "every_third_element"
   ]
  },
  {
   "cell_type": "code",
   "execution_count": 109,
   "id": "433c2a14-325e-4818-b34d-19fd4349591a",
   "metadata": {},
   "outputs": [
    {
     "name": "stdout",
     "output_type": "stream",
     "text": [
      "Original Array\n",
      "[ 100  200  300  300  400  500  600 1900 7000]\n",
      "Every THIRD Element Array\n",
      "[100 300 600]\n"
     ]
    }
   ],
   "source": [
    "print('Original Array')\n",
    "print(sorted_arr)\n",
    "print('Every THIRD Element Array')\n",
    "every_third_element=sorted_arr[::3]\n",
    "print(every_third_element)"
   ]
  },
  {
   "cell_type": "markdown",
   "id": "d7c74c54-9ceb-4a17-ae57-82d008c9ff51",
   "metadata": {},
   "source": [
    "## Slice Reverse"
   ]
  },
  {
   "cell_type": "code",
   "execution_count": 116,
   "id": "4ebeec46-c410-4885-8c29-df342d88b05b",
   "metadata": {},
   "outputs": [
    {
     "name": "stdout",
     "output_type": "stream",
     "text": [
      "Original Array\n",
      "[ 100  200  300  300  400  500  600 1900 7000]\n",
      "Reverse Array\t: [7000 1900  600  500  400  300  300  200  100]\n"
     ]
    }
   ],
   "source": [
    "print('Original Array')\n",
    "print(sorted_arr)\n",
    "print('Reverse Array\\t:',sorted_arr[::-1])"
   ]
  },
  {
   "cell_type": "code",
   "execution_count": 119,
   "id": "4a6b0656-d853-48b9-aec1-b565ac93136d",
   "metadata": {},
   "outputs": [
    {
     "name": "stdout",
     "output_type": "stream",
     "text": [
      "Last Five Elements\n",
      "[ 400  500  600 1900 7000]\n",
      "Slicing Done\n"
     ]
    }
   ],
   "source": [
    "print('Last Five Elements')\n",
    "print(sorted_arr[-5:])\n",
    "print('Slicing Done')"
   ]
  },
  {
   "cell_type": "code",
   "execution_count": null,
   "id": "6047582c-2da7-4e4a-a88d-0b62f9f123a1",
   "metadata": {},
   "outputs": [],
   "source": []
  }
 ],
 "metadata": {
  "kernelspec": {
   "display_name": "Python [conda env:base] *",
   "language": "python",
   "name": "conda-base-py"
  },
  "language_info": {
   "codemirror_mode": {
    "name": "ipython",
    "version": 3
   },
   "file_extension": ".py",
   "mimetype": "text/x-python",
   "name": "python",
   "nbconvert_exporter": "python",
   "pygments_lexer": "ipython3",
   "version": "3.13.5"
  }
 },
 "nbformat": 4,
 "nbformat_minor": 5
}
