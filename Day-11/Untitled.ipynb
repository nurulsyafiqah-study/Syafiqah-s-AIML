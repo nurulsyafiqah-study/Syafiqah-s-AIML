{
 "cells": [
  {
   "cell_type": "code",
   "execution_count": 1,
   "id": "68aeda64-0e85-483d-bbc6-1ef1f5e8948a",
   "metadata": {},
   "outputs": [],
   "source": [
    "import pandas as pd\n",
    "import numpy as np"
   ]
  },
  {
   "cell_type": "code",
   "execution_count": 2,
   "id": "2d68786a-c1f9-48f4-bd70-ed39c0f7f120",
   "metadata": {},
   "outputs": [
    {
     "name": "stdout",
     "output_type": "stream",
     "text": [
      "    Name  Age  Marks\n",
      "0   John   20     85\n",
      "1  Alice   22     90\n",
      "2    Bob   21     78\n",
      "3   Sara   23     92\n",
      "4    Sam   25     90\n",
      "5  Rohit   39     45\n"
     ]
    }
   ],
   "source": [
    "df=pd.read_excel('students.xlsx')\n",
    "print(df)"
   ]
  },
  {
   "cell_type": "code",
   "execution_count": 7,
   "id": "1ca67244-be4b-40f8-996d-4256a5455d60",
   "metadata": {},
   "outputs": [
    {
     "name": "stdout",
     "output_type": "stream",
     "text": [
      "Numpy Array of Marks\n",
      "[85 90 78 92 90 45]\n"
     ]
    }
   ],
   "source": [
    "marks=df['Marks'].to_numpy()\n",
    "print('Numpy Array of Marks')\n",
    "print(marks)"
   ]
  },
  {
   "cell_type": "code",
   "execution_count": 9,
   "id": "ed11e1b8-01bf-4d59-9a33-68836cabc622",
   "metadata": {},
   "outputs": [
    {
     "name": "stdout",
     "output_type": "stream",
     "text": [
      "Highest Marks\t: 92\n",
      "Lowest Marks\t: 45\n"
     ]
    }
   ],
   "source": [
    "print('Highest Marks\\t:',np.max(marks))\n",
    "print('Lowest Marks\\t:',np.min(marks))\n"
   ]
  },
  {
   "cell_type": "markdown",
   "id": "23bc6df3-ea2d-4bca-92fe-220627973ccb",
   "metadata": {},
   "source": [
    "# .loc  : Label Based\n",
    "# .iloc : Index Based"
   ]
  },
  {
   "cell_type": "code",
   "execution_count": 10,
   "id": "a4fca282-de9d-4cb3-8aec-928bd0ab0dd2",
   "metadata": {},
   "outputs": [
    {
     "name": "stdout",
     "output_type": "stream",
     "text": [
      "Original DataFrame\n",
      "    Name  Age  Marks\n",
      "0   John   20     85\n",
      "1  Alice   22     90\n",
      "2    Bob   21     78\n",
      "3   Sara   23     92\n",
      "4    Sam   25     90\n",
      "5  Rohit   39     45\n",
      "Location : Label Based\n",
      "Name     Bob\n",
      "Age       21\n",
      "Marks     78\n",
      "Name: 2, dtype: object\n"
     ]
    }
   ],
   "source": [
    "print('Original DataFrame')\n",
    "print(df)\n",
    "print('Location : Label Based')\n",
    "print(df.loc[2])"
   ]
  },
  {
   "cell_type": "code",
   "execution_count": 15,
   "id": "524492ec-f576-49c7-b9f2-e87899d3a120",
   "metadata": {},
   "outputs": [
    {
     "name": "stdout",
     "output_type": "stream",
     "text": [
      "Original DataFrame\n",
      "    Name  Age  Marks\n",
      "0   John   20     85\n",
      "1  Alice   22     90\n",
      "2    Bob   21     78\n",
      "3   Sara   23     92\n",
      "4    Sam   25     90\n",
      "5  Rohit   39     45\n",
      "Location : Label Based\n",
      "Name     Bob\n",
      "Marks     78\n",
      "Name: 2, dtype: object\n"
     ]
    }
   ],
   "source": [
    "## or you can try this\n",
    "print('Original DataFrame')\n",
    "print(df)\n",
    "print('Location : Label Based')\n",
    "print(df.loc[2,['Name','Marks']])"
   ]
  },
  {
   "cell_type": "code",
   "execution_count": 13,
   "id": "7a75f650-dfa8-4222-a90a-5894f8c82cce",
   "metadata": {},
   "outputs": [
    {
     "name": "stdout",
     "output_type": "stream",
     "text": [
      "Original DataFrame\n",
      "    Name  Age  Marks\n",
      "0   John   20     85\n",
      "1  Alice   22     90\n",
      "2    Bob   21     78\n",
      "3   Sara   23     92\n",
      "4    Sam   25     90\n",
      "5  Rohit   39     45\n",
      "Location : Index Based\n",
      "Age      21\n",
      "Marks    78\n",
      "Name: 2, dtype: object\n"
     ]
    }
   ],
   "source": [
    "print('Original DataFrame')\n",
    "print(df)\n",
    "print('Location : Index Based')\n",
    "print(df.iloc[2,[1,2]])"
   ]
  },
  {
   "cell_type": "code",
   "execution_count": 16,
   "id": "0a59c5c5-8c45-4f86-92d6-f1375c5e8bab",
   "metadata": {},
   "outputs": [
    {
     "name": "stdout",
     "output_type": "stream",
     "text": [
      "Original DataFrame\n",
      "    Name  Age  Marks\n",
      "0   John   20     85\n",
      "1  Alice   22     90\n",
      "2    Bob   21     78\n",
      "3   Sara   23     92\n",
      "4    Sam   25     90\n",
      "5  Rohit   39     45\n",
      "Location : Index Based\n",
      "Name     Sam\n",
      "Age       25\n",
      "Marks     90\n",
      "Name: 4, dtype: object\n"
     ]
    }
   ],
   "source": [
    "print('Original DataFrame')\n",
    "print(df)\n",
    "print('Location : Index Based')\n",
    "print(df.iloc[4])"
   ]
  },
  {
   "cell_type": "markdown",
   "id": "061c25fd-aabb-42b6-8ebe-79fce3bee23d",
   "metadata": {},
   "source": [
    "# Axis in NumPy:\n",
    "    1. Axis 0: Vertical direction: works column-wise\n",
    "    2. Axis 1: Horizontal direction: works row-wise\n",
    "# We have two students marks in 3 subjects\n",
    "    # [[45,40,49],[30,45,49]]"
   ]
  },
  {
   "cell_type": "code",
   "execution_count": 17,
   "id": "6c61c5a4-934d-43f0-bb3b-6c54fb5d894f",
   "metadata": {},
   "outputs": [
    {
     "name": "stdout",
     "output_type": "stream",
     "text": [
      "[[45 40 49]\n",
      " [30 45 49]]\n"
     ]
    }
   ],
   "source": [
    "marks_arr=np.array([[45,40,49],[30,45,49]])\n",
    "print(marks_arr)"
   ]
  },
  {
   "cell_type": "code",
   "execution_count": 18,
   "id": "9aa617a7-2bbf-4f2f-b3c5-fb11a63cc49a",
   "metadata": {},
   "outputs": [
    {
     "name": "stdout",
     "output_type": "stream",
     "text": [
      "Sum down each column\t: [75 85 98]\n"
     ]
    }
   ],
   "source": [
    "print('Sum down each column\\t:',np.sum(marks_arr,axis=0))"
   ]
  },
  {
   "cell_type": "code",
   "execution_count": 19,
   "id": "0621f7d3-4677-4ce6-9c27-1f1a73133aff",
   "metadata": {},
   "outputs": [
    {
     "name": "stdout",
     "output_type": "stream",
     "text": [
      "Sum down each row\t: [134 124]\n"
     ]
    }
   ],
   "source": [
    "print('Sum down each row\\t:',np.sum(marks_arr,axis=1))"
   ]
  },
  {
   "cell_type": "code",
   "execution_count": 20,
   "id": "43c827bb-d336-4865-af1f-df90af42961c",
   "metadata": {},
   "outputs": [
    {
     "name": "stdout",
     "output_type": "stream",
     "text": [
      "NumPy Array pf Marks\t: [85 90 78 92 90 45]\n"
     ]
    }
   ],
   "source": [
    "print('NumPy Array pf Marks\\t:',marks)"
   ]
  },
  {
   "cell_type": "code",
   "execution_count": 21,
   "id": "b1cb38b8-67f3-4724-87e4-3ebe08c98a57",
   "metadata": {},
   "outputs": [
    {
     "name": "stdout",
     "output_type": "stream",
     "text": [
      "    Name  Age  Marks\n",
      "0   John   20     85\n",
      "1  Alice   22     90\n",
      "2    Bob   21     78\n",
      "3   Sara   23     92\n",
      "4    Sam   25     90\n",
      "5  Rohit   39     45\n"
     ]
    }
   ],
   "source": [
    "print(df)"
   ]
  },
  {
   "cell_type": "markdown",
   "id": "ca2fb832-9bd2-4f72-a7a8-67450328a5db",
   "metadata": {},
   "source": [
    "### Find the Student Name who got highest marks  [.idxmax()]"
   ]
  },
  {
   "cell_type": "code",
   "execution_count": 28,
   "id": "88d64782-45a5-4712-9d54-1706bb240445",
   "metadata": {},
   "outputs": [
    {
     "name": "stdout",
     "output_type": "stream",
     "text": [
      "Top Scorer\t: Sara\n"
     ]
    }
   ],
   "source": [
    "top_scorer=df.loc[df['Marks'].idxmax(),'Name']\n",
    "print('Top Scorer\\t:',top_scorer)"
   ]
  },
  {
   "cell_type": "code",
   "execution_count": 26,
   "id": "b0035486-556a-44cf-afa8-99c29777e47b",
   "metadata": {},
   "outputs": [
    {
     "name": "stdout",
     "output_type": "stream",
     "text": [
      "Low Scorer\t: Rohit\n"
     ]
    }
   ],
   "source": [
    "low_scorer=df.loc[df['Marks'].idxmin(),'Name']\n",
    "print('Low Scorer\\t:',low_scorer)"
   ]
  },
  {
   "cell_type": "code",
   "execution_count": 30,
   "id": "fb565c14-6259-41c7-a512-94767c68e7d3",
   "metadata": {},
   "outputs": [
    {
     "name": "stdout",
     "output_type": "stream",
     "text": [
      "Top student in the class is\t: Sara\n"
     ]
    }
   ],
   "source": [
    "top_index=df['Marks'].idxmax()\n",
    "top_student=df.iloc[top_index,df.columns.get_loc('Name')]\n",
    "print('Top student in the class is\\t:',top_student)"
   ]
  },
  {
   "cell_type": "code",
   "execution_count": null,
   "id": "ea947556-2de3-46f1-bc08-eaf982bdac9e",
   "metadata": {},
   "outputs": [],
   "source": []
  }
 ],
 "metadata": {
  "kernelspec": {
   "display_name": "Python [conda env:base] *",
   "language": "python",
   "name": "conda-base-py"
  },
  "language_info": {
   "codemirror_mode": {
    "name": "ipython",
    "version": 3
   },
   "file_extension": ".py",
   "mimetype": "text/x-python",
   "name": "python",
   "nbconvert_exporter": "python",
   "pygments_lexer": "ipython3",
   "version": "3.13.5"
  }
 },
 "nbformat": 4,
 "nbformat_minor": 5
}
